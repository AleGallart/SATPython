{
 "cells": [
  {
   "cell_type": "markdown",
   "metadata": {},
   "source": [
    "# EDA Cine"
   ]
  },
  {
   "cell_type": "markdown",
   "metadata": {},
   "source": [
    "## Instalar paquetes"
   ]
  },
  {
   "cell_type": "code",
   "execution_count": 5,
   "metadata": {},
   "outputs": [],
   "source": [
    "import pandas \n",
    "#import seaborn as sns\n",
    "import matplotlib.pyplot as plt"
   ]
  },
  {
   "cell_type": "markdown",
   "metadata": {},
   "source": [
    "## Carga de datos"
   ]
  },
  {
   "cell_type": "code",
   "execution_count": 6,
   "metadata": {},
   "outputs": [],
   "source": [
    "filename = './tmdb_5000_movies.csv'\n",
    "data = pandas.read_csv(filename, header=0)"
   ]
  },
  {
   "cell_type": "markdown",
   "metadata": {},
   "source": [
    "## Limpieza de base de datos"
   ]
  },
  {
   "cell_type": "markdown",
   "metadata": {},
   "source": [
    "#### Descriptivos"
   ]
  },
  {
   "cell_type": "code",
   "execution_count": 7,
   "metadata": {},
   "outputs": [
    {
     "name": "stdout",
     "output_type": "stream",
     "text": [
      "(4803, 20)\n",
      "                                                                      0  \\\n",
      "budget                                                        237000000   \n",
      "genres                [{\"id\": 28, \"name\": \"Action\"}, {\"id\": 12, \"nam...   \n",
      "homepage                                    http://www.avatarmovie.com/   \n",
      "id                                                                19995   \n",
      "keywords              [{\"id\": 1463, \"name\": \"culture clash\"}, {\"id\":...   \n",
      "original_language                                                    en   \n",
      "original_title                                                   Avatar   \n",
      "overview              In the 22nd century, a paraplegic Marine is di...   \n",
      "popularity                                                   150.437577   \n",
      "production_companies  [{\"name\": \"Ingenious Film Partners\", \"id\": 289...   \n",
      "production_countries  [{\"iso_3166_1\": \"US\", \"name\": \"United States o...   \n",
      "release_date                                                 2009-12-10   \n",
      "revenue                                                      2787965087   \n",
      "runtime                                                           162.0   \n",
      "spoken_languages      [{\"iso_639_1\": \"en\", \"name\": \"English\"}, {\"iso...   \n",
      "status                                                         Released   \n",
      "tagline                                     Enter the World of Pandora.   \n",
      "title                                                            Avatar   \n",
      "vote_average                                                        7.2   \n",
      "vote_count                                                        11800   \n",
      "\n",
      "                                                                      1  \\\n",
      "budget                                                        300000000   \n",
      "genres                [{\"id\": 12, \"name\": \"Adventure\"}, {\"id\": 14, \"...   \n",
      "homepage                   http://disney.go.com/disneypictures/pirates/   \n",
      "id                                                                  285   \n",
      "keywords              [{\"id\": 270, \"name\": \"ocean\"}, {\"id\": 726, \"na...   \n",
      "original_language                                                    en   \n",
      "original_title                 Pirates of the Caribbean: At World's End   \n",
      "overview              Captain Barbossa, long believed to be dead, ha...   \n",
      "popularity                                                   139.082615   \n",
      "production_companies  [{\"name\": \"Walt Disney Pictures\", \"id\": 2}, {\"...   \n",
      "production_countries  [{\"iso_3166_1\": \"US\", \"name\": \"United States o...   \n",
      "release_date                                                 2007-05-19   \n",
      "revenue                                                       961000000   \n",
      "runtime                                                           169.0   \n",
      "spoken_languages               [{\"iso_639_1\": \"en\", \"name\": \"English\"}]   \n",
      "status                                                         Released   \n",
      "tagline                  At the end of the world, the adventure begins.   \n",
      "title                          Pirates of the Caribbean: At World's End   \n",
      "vote_average                                                        6.9   \n",
      "vote_count                                                         4500   \n",
      "\n",
      "                                                                      2  \\\n",
      "budget                                                        245000000   \n",
      "genres                [{\"id\": 28, \"name\": \"Action\"}, {\"id\": 12, \"nam...   \n",
      "homepage                    http://www.sonypictures.com/movies/spectre/   \n",
      "id                                                               206647   \n",
      "keywords              [{\"id\": 470, \"name\": \"spy\"}, {\"id\": 818, \"name...   \n",
      "original_language                                                    en   \n",
      "original_title                                                  Spectre   \n",
      "overview              A cryptic message from Bond’s past sends him o...   \n",
      "popularity                                                   107.376788   \n",
      "production_companies  [{\"name\": \"Columbia Pictures\", \"id\": 5}, {\"nam...   \n",
      "production_countries  [{\"iso_3166_1\": \"GB\", \"name\": \"United Kingdom\"...   \n",
      "release_date                                                 2015-10-26   \n",
      "revenue                                                       880674609   \n",
      "runtime                                                           148.0   \n",
      "spoken_languages      [{\"iso_639_1\": \"fr\", \"name\": \"Fran\\u00e7ais\"},...   \n",
      "status                                                         Released   \n",
      "tagline                                           A Plan No One Escapes   \n",
      "title                                                           Spectre   \n",
      "vote_average                                                        6.3   \n",
      "vote_count                                                         4466   \n",
      "\n",
      "                                                                      3  \\\n",
      "budget                                                        250000000   \n",
      "genres                [{\"id\": 28, \"name\": \"Action\"}, {\"id\": 80, \"nam...   \n",
      "homepage                             http://www.thedarkknightrises.com/   \n",
      "id                                                                49026   \n",
      "keywords              [{\"id\": 849, \"name\": \"dc comics\"}, {\"id\": 853,...   \n",
      "original_language                                                    en   \n",
      "original_title                                    The Dark Knight Rises   \n",
      "overview              Following the death of District Attorney Harve...   \n",
      "popularity                                                    112.31295   \n",
      "production_companies  [{\"name\": \"Legendary Pictures\", \"id\": 923}, {\"...   \n",
      "production_countries  [{\"iso_3166_1\": \"US\", \"name\": \"United States o...   \n",
      "release_date                                                 2012-07-16   \n",
      "revenue                                                      1084939099   \n",
      "runtime                                                           165.0   \n",
      "spoken_languages               [{\"iso_639_1\": \"en\", \"name\": \"English\"}]   \n",
      "status                                                         Released   \n",
      "tagline                                                 The Legend Ends   \n",
      "title                                             The Dark Knight Rises   \n",
      "vote_average                                                        7.6   \n",
      "vote_count                                                         9106   \n",
      "\n",
      "                                                                      4  \n",
      "budget                                                        260000000  \n",
      "genres                [{\"id\": 28, \"name\": \"Action\"}, {\"id\": 12, \"nam...  \n",
      "homepage                           http://movies.disney.com/john-carter  \n",
      "id                                                                49529  \n",
      "keywords              [{\"id\": 818, \"name\": \"based on novel\"}, {\"id\":...  \n",
      "original_language                                                    en  \n",
      "original_title                                              John Carter  \n",
      "overview              John Carter is a war-weary, former military ca...  \n",
      "popularity                                                    43.926995  \n",
      "production_companies        [{\"name\": \"Walt Disney Pictures\", \"id\": 2}]  \n",
      "production_countries  [{\"iso_3166_1\": \"US\", \"name\": \"United States o...  \n",
      "release_date                                                 2012-03-07  \n",
      "revenue                                                       284139100  \n",
      "runtime                                                           132.0  \n",
      "spoken_languages               [{\"iso_639_1\": \"en\", \"name\": \"English\"}]  \n",
      "status                                                         Released  \n",
      "tagline                            Lost in our world, found in another.  \n",
      "title                                                       John Carter  \n",
      "vote_average                                                        6.1  \n",
      "vote_count                                                         2124  \n"
     ]
    }
   ],
   "source": [
    "print(data.shape)\n",
    "print(data.head().transpose())\n"
   ]
  },
  {
   "cell_type": "code",
   "execution_count": 8,
   "metadata": {},
   "outputs": [
    {
     "name": "stdout",
     "output_type": "stream",
     "text": [
      "budget                    int64\n",
      "genres                   object\n",
      "homepage                 object\n",
      "id                        int64\n",
      "keywords                 object\n",
      "original_language        object\n",
      "original_title           object\n",
      "overview                 object\n",
      "popularity              float64\n",
      "production_companies     object\n",
      "production_countries     object\n",
      "release_date             object\n",
      "revenue                   int64\n",
      "runtime                 float64\n",
      "spoken_languages         object\n",
      "status                   object\n",
      "tagline                  object\n",
      "title                    object\n",
      "vote_average            float64\n",
      "vote_count                int64\n",
      "dtype: object\n"
     ]
    }
   ],
   "source": [
    "print(data.dtypes) #concuerdan con el tipo de dato que quieren mostrar"
   ]
  },
  {
   "cell_type": "code",
   "execution_count": 11,
   "metadata": {},
   "outputs": [
    {
     "name": "stdout",
     "output_type": "stream",
     "text": [
      "budget                     0\n",
      "genres                     0\n",
      "homepage                3091\n",
      "id                         0\n",
      "keywords                   0\n",
      "original_language          0\n",
      "original_title             0\n",
      "overview                   3\n",
      "popularity                 0\n",
      "production_companies       0\n",
      "production_countries       0\n",
      "release_date               1\n",
      "revenue                    0\n",
      "runtime                    2\n",
      "spoken_languages           0\n",
      "status                     0\n",
      "tagline                  844\n",
      "title                      0\n",
      "vote_average               0\n",
      "vote_count                 0\n",
      "dtype: int64\n",
      "La cantidad de duplicados es: 0\n"
     ]
    }
   ],
   "source": [
    "print(data.isnull().sum()) #hay nulos\n",
    "print(\"La cantidad de duplicados es:\" , data.duplicated().sum())  #no hay duplicados"
   ]
  },
  {
   "cell_type": "markdown",
   "metadata": {},
   "source": [
    "Se puede ver que hay datos nulos, no hay duplicados y los tipos de datos concuerdan con lo que expresa la columna\n"
   ]
  }
 ],
 "metadata": {
  "kernelspec": {
   "display_name": "Python 3.10.4 64-bit",
   "language": "python",
   "name": "python3"
  },
  "language_info": {
   "codemirror_mode": {
    "name": "ipython",
    "version": 3
   },
   "file_extension": ".py",
   "mimetype": "text/x-python",
   "name": "python",
   "nbconvert_exporter": "python",
   "pygments_lexer": "ipython3",
   "version": "3.10.4"
  },
  "orig_nbformat": 4,
  "vscode": {
   "interpreter": {
    "hash": "cbf96d087b927f265f81b9562959fe1e418183a521d367fe57b509bef487bc3d"
   }
  }
 },
 "nbformat": 4,
 "nbformat_minor": 2
}
